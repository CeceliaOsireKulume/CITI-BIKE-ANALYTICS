{
 "cells": [
  {
   "cell_type": "markdown",
   "id": "580d4bb4-c538-4e56-95d4-3c5c2d3b60ce",
   "metadata": {},
   "source": [
    "# # 6.3 Geographic Visualization "
   ]
  },
  {
   "cell_type": "markdown",
   "id": "46e4d8ca-fd0f-4e59-99c1-b881f4748ea3",
   "metadata": {},
   "source": [
    "### This script contaains the following:\n",
    "### 1. Import data and libraries\n",
    "### 2. Data wrangling\n",
    "### 3. Data Cleaning\n",
    "### 4. Plotting a map/choropleth\n",
    "### 5. Discussing resultsh"
   ]
  },
  {
   "cell_type": "markdown",
   "id": "54e1e5b4-3490-4d03-b08e-68667b3a284e",
   "metadata": {},
   "source": [
    "### 1. Importing data and Libraries"
   ]
  },
  {
   "cell_type": "code",
   "execution_count": 16,
   "id": "b06fe858-a67b-49cc-8190-50ecc96d3132",
   "metadata": {},
   "outputs": [],
   "source": [
    "import pandas as pd\n",
    "import numpy as np\n",
    "import seaborn as sns\n",
    "import matplotlib\n",
    "import os\n",
    "\n",
    "import folium\n",
    "import json"
   ]
  },
  {
   "cell_type": "code",
   "execution_count": 17,
   "id": "c65eb066-965a-4cf5-b08c-485d8807b191",
   "metadata": {},
   "outputs": [],
   "source": [
    "# Import \".json\" file North America. \n",
    "\n",
    "country_geo = r'D:\\1. Data Analysis\\Achievement 6 - New York Citi Bikes\\3\\custom.geo.json'"
   ]
  },
  {
   "cell_type": "code",
   "execution_count": 18,
   "id": "b07025ed-37fc-49e9-b164-1126e30ab2eb",
   "metadata": {},
   "outputs": [
    {
     "data": {
      "text/plain": [
       "'D:\\\\1. Data Analysis\\\\Achievement 6 - New York Citi Bikes\\\\3\\\\custom.geo.json'"
      ]
     },
     "execution_count": 18,
     "metadata": {},
     "output_type": "execute_result"
    }
   ],
   "source": [
    "country_geo"
   ]
  },
  {
   "cell_type": "code",
   "execution_count": 19,
   "id": "147e02f6-3d94-4317-9e54-bb1e52a7e661",
   "metadata": {},
   "outputs": [],
   "source": [
    "# This command propts matplotlib visuals to appear in the notebook \r\n",
    "\r\n",
    "%matplotlib inline"
   ]
  },
  {
   "cell_type": "code",
   "execution_count": 20,
   "id": "e0f5b89e-8749-4e19-820d-2d15f99bf76e",
   "metadata": {},
   "outputs": [],
   "source": [
    "data_cleaned=pd.read_csv(r'C:\\Users\\25670\\Desktop\\CiteBikes Analysis\\02. Data\\Prepared Data\\citibike_clean.csv')"
   ]
  },
  {
   "cell_type": "code",
   "execution_count": 21,
   "id": "1b6bb99b-6c32-4b2b-a5c2-72b2739401a2",
   "metadata": {},
   "outputs": [
    {
     "data": {
      "text/html": [
       "<div>\n",
       "<style scoped>\n",
       "    .dataframe tbody tr th:only-of-type {\n",
       "        vertical-align: middle;\n",
       "    }\n",
       "\n",
       "    .dataframe tbody tr th {\n",
       "        vertical-align: top;\n",
       "    }\n",
       "\n",
       "    .dataframe thead th {\n",
       "        text-align: right;\n",
       "    }\n",
       "</style>\n",
       "<table border=\"1\" class=\"dataframe\">\n",
       "  <thead>\n",
       "    <tr style=\"text-align: right;\">\n",
       "      <th></th>\n",
       "      <th>trip_id</th>\n",
       "      <th>bike_id</th>\n",
       "      <th>weekday</th>\n",
       "      <th>start_hour</th>\n",
       "      <th>start_station_id</th>\n",
       "      <th>start_station_name</th>\n",
       "      <th>start_station_latitude</th>\n",
       "      <th>start_station_longitude</th>\n",
       "      <th>end_station_id</th>\n",
       "      <th>end_station_name</th>\n",
       "      <th>end_station_latitude</th>\n",
       "      <th>end_station_longitude</th>\n",
       "      <th>trip_duration</th>\n",
       "      <th>subscriber</th>\n",
       "      <th>birth_year</th>\n",
       "      <th>gender_label</th>\n",
       "      <th>start_year</th>\n",
       "      <th>start_month</th>\n",
       "      <th>end_hour</th>\n",
       "      <th>Age</th>\n",
       "    </tr>\n",
       "  </thead>\n",
       "  <tbody>\n",
       "    <tr>\n",
       "      <th>0</th>\n",
       "      <td>LnQzQk</td>\n",
       "      <td>16013</td>\n",
       "      <td>Mon</td>\n",
       "      <td>18</td>\n",
       "      <td>523</td>\n",
       "      <td>W 38 St &amp; 8 Ave</td>\n",
       "      <td>40.754666</td>\n",
       "      <td>-73.991382</td>\n",
       "      <td>334</td>\n",
       "      <td>W 20 St &amp; 7 Ave</td>\n",
       "      <td>40.742388</td>\n",
       "      <td>-73.997262</td>\n",
       "      <td>993</td>\n",
       "      <td>Subscriber</td>\n",
       "      <td>1968.0</td>\n",
       "      <td>female</td>\n",
       "      <td>2013</td>\n",
       "      <td>9</td>\n",
       "      <td>18</td>\n",
       "      <td>45.0</td>\n",
       "    </tr>\n",
       "    <tr>\n",
       "      <th>1</th>\n",
       "      <td>IL9boN</td>\n",
       "      <td>15230</td>\n",
       "      <td>Thu</td>\n",
       "      <td>18</td>\n",
       "      <td>257</td>\n",
       "      <td>Lispenard St &amp; Broadway</td>\n",
       "      <td>40.719392</td>\n",
       "      <td>-74.002472</td>\n",
       "      <td>236</td>\n",
       "      <td>St Marks Pl &amp; 2 Ave</td>\n",
       "      <td>40.728419</td>\n",
       "      <td>-73.987140</td>\n",
       "      <td>581</td>\n",
       "      <td>Subscriber</td>\n",
       "      <td>1983.0</td>\n",
       "      <td>male</td>\n",
       "      <td>2013</td>\n",
       "      <td>9</td>\n",
       "      <td>18</td>\n",
       "      <td>30.0</td>\n",
       "    </tr>\n",
       "    <tr>\n",
       "      <th>2</th>\n",
       "      <td>46clGB</td>\n",
       "      <td>17942</td>\n",
       "      <td>Wed</td>\n",
       "      <td>19</td>\n",
       "      <td>479</td>\n",
       "      <td>9 Ave &amp; W 45 St</td>\n",
       "      <td>40.760193</td>\n",
       "      <td>-73.991255</td>\n",
       "      <td>513</td>\n",
       "      <td>W 56 St &amp; 10 Ave</td>\n",
       "      <td>40.768254</td>\n",
       "      <td>-73.988639</td>\n",
       "      <td>361</td>\n",
       "      <td>Subscriber</td>\n",
       "      <td>1989.0</td>\n",
       "      <td>male</td>\n",
       "      <td>2013</td>\n",
       "      <td>9</td>\n",
       "      <td>19</td>\n",
       "      <td>24.0</td>\n",
       "    </tr>\n",
       "    <tr>\n",
       "      <th>3</th>\n",
       "      <td>v7vdFt</td>\n",
       "      <td>19683</td>\n",
       "      <td>Sat</td>\n",
       "      <td>11</td>\n",
       "      <td>527</td>\n",
       "      <td>E 33 St &amp; 1 Ave</td>\n",
       "      <td>40.743156</td>\n",
       "      <td>-73.974347</td>\n",
       "      <td>441</td>\n",
       "      <td>E 52 St &amp; 2 Ave</td>\n",
       "      <td>40.756014</td>\n",
       "      <td>-73.967416</td>\n",
       "      <td>561</td>\n",
       "      <td>Subscriber</td>\n",
       "      <td>1988.0</td>\n",
       "      <td>female</td>\n",
       "      <td>2013</td>\n",
       "      <td>9</td>\n",
       "      <td>12</td>\n",
       "      <td>25.0</td>\n",
       "    </tr>\n",
       "    <tr>\n",
       "      <th>4</th>\n",
       "      <td>VGBsb5</td>\n",
       "      <td>18024</td>\n",
       "      <td>Sat</td>\n",
       "      <td>18</td>\n",
       "      <td>521</td>\n",
       "      <td>8 Ave &amp; W 31 St</td>\n",
       "      <td>40.750450</td>\n",
       "      <td>-73.994811</td>\n",
       "      <td>476</td>\n",
       "      <td>E 31 St &amp; 3 Ave</td>\n",
       "      <td>40.743943</td>\n",
       "      <td>-73.979661</td>\n",
       "      <td>2296</td>\n",
       "      <td>Non-Subscriber</td>\n",
       "      <td>NaN</td>\n",
       "      <td>unknown</td>\n",
       "      <td>2013</td>\n",
       "      <td>9</td>\n",
       "      <td>18</td>\n",
       "      <td>NaN</td>\n",
       "    </tr>\n",
       "  </tbody>\n",
       "</table>\n",
       "</div>"
      ],
      "text/plain": [
       "  trip_id  bike_id weekday  start_hour  start_station_id  \\\n",
       "0  LnQzQk    16013     Mon          18               523   \n",
       "1  IL9boN    15230     Thu          18               257   \n",
       "2  46clGB    17942     Wed          19               479   \n",
       "3  v7vdFt    19683     Sat          11               527   \n",
       "4  VGBsb5    18024     Sat          18               521   \n",
       "\n",
       "        start_station_name  start_station_latitude  start_station_longitude  \\\n",
       "0          W 38 St & 8 Ave               40.754666               -73.991382   \n",
       "1  Lispenard St & Broadway               40.719392               -74.002472   \n",
       "2          9 Ave & W 45 St               40.760193               -73.991255   \n",
       "3          E 33 St & 1 Ave               40.743156               -73.974347   \n",
       "4          8 Ave & W 31 St               40.750450               -73.994811   \n",
       "\n",
       "   end_station_id     end_station_name  end_station_latitude  \\\n",
       "0             334      W 20 St & 7 Ave             40.742388   \n",
       "1             236  St Marks Pl & 2 Ave             40.728419   \n",
       "2             513     W 56 St & 10 Ave             40.768254   \n",
       "3             441      E 52 St & 2 Ave             40.756014   \n",
       "4             476      E 31 St & 3 Ave             40.743943   \n",
       "\n",
       "   end_station_longitude  trip_duration      subscriber  birth_year  \\\n",
       "0             -73.997262            993      Subscriber      1968.0   \n",
       "1             -73.987140            581      Subscriber      1983.0   \n",
       "2             -73.988639            361      Subscriber      1989.0   \n",
       "3             -73.967416            561      Subscriber      1988.0   \n",
       "4             -73.979661           2296  Non-Subscriber         NaN   \n",
       "\n",
       "  gender_label  start_year  start_month  end_hour   Age  \n",
       "0       female        2013            9        18  45.0  \n",
       "1         male        2013            9        18  30.0  \n",
       "2         male        2013            9        19  24.0  \n",
       "3       female        2013            9        12  25.0  \n",
       "4      unknown        2013            9        18   NaN  "
      ]
     },
     "execution_count": 21,
     "metadata": {},
     "output_type": "execute_result"
    }
   ],
   "source": [
    "data_cleaned.head()"
   ]
  },
  {
   "cell_type": "markdown",
   "id": "f0626c85-1880-4844-a4bc-13f293ad9f19",
   "metadata": {},
   "source": [
    "### 2. & 3. Data wrangling and data cleaning"
   ]
  },
  {
   "cell_type": "code",
   "execution_count": 22,
   "id": "ecf2497e-9b7c-4709-ba2a-2701c3f9ce7e",
   "metadata": {},
   "outputs": [],
   "source": [
    "station_data = data_cleaned.groupby('start_station_name')['start_station_id'].sum().reset_index()\n",
    "station_data.columns = ['weeky', 'station_identification']"
   ]
  },
  {
   "cell_type": "code",
   "execution_count": 23,
   "id": "d5ca20a7-8ecf-43e0-aca1-10ddf38a15af",
   "metadata": {},
   "outputs": [
    {
     "name": "stdout",
     "output_type": "stream",
     "text": [
      "weeky                     object\n",
      "station_identification     int64\n",
      "dtype: object\n",
      "weeky                     0\n",
      "station_identification    0\n",
      "dtype: int64\n"
     ]
    }
   ],
   "source": [
    "####  Check data types\n",
    "print(station_data.dtypes)\n",
    "\n",
    "# Convert to numeric, forcing errors to NaN\n",
    "station_data['station_identification'] = pd.to_numeric(station_data['station_identification'], errors='coerce')\n",
    "\n",
    "# Check for any NaN values that may have been introduced\n",
    "print(station_data.isna().sum())"
   ]
  },
  {
   "cell_type": "code",
   "execution_count": 24,
   "id": "1ec59081-a5f7-4a5d-ba8c-5cb4826716f6",
   "metadata": {},
   "outputs": [],
   "source": [
    "state_data = data_cleaned.groupby('start_station_name')['subscriber'].sum().reset_index()\n",
    "state_data.columns = ['start', 'total_subscribers']"
   ]
  },
  {
   "cell_type": "code",
   "execution_count": 25,
   "id": "495eeb35-dda0-4e1c-9674-ce903159c532",
   "metadata": {},
   "outputs": [
    {
     "name": "stdout",
     "output_type": "stream",
     "text": [
      "start                object\n",
      "total_subscribers    object\n",
      "dtype: object\n",
      "start                  0\n",
      "total_subscribers    330\n",
      "dtype: int64\n"
     ]
    }
   ],
   "source": [
    "####  Check data types\n",
    "print(state_data.dtypes)\n",
    "\n",
    "# Convert to numeric, forcing errors to NaN\n",
    "state_data['total_subscribers'] = pd.to_numeric(state_data['total_subscribers'], errors='coerce')\n",
    "\n",
    "# Check for any NaN values that may have been introduced\n",
    "print(state_data.isna().sum())"
   ]
  },
  {
   "cell_type": "markdown",
   "id": "5ffd410a-ca29-45cc-a75b-04a32a6783c9",
   "metadata": {},
   "source": [
    "### 4. Plotting a map / achoropleth"
   ]
  },
  {
   "cell_type": "code",
   "execution_count": 26,
   "id": "cdf8a8c9-c2e6-494e-b135-7910e16f2853",
   "metadata": {},
   "outputs": [
    {
     "name": "stderr",
     "output_type": "stream",
     "text": [
      "IOPub data rate exceeded.\n",
      "The Jupyter server will temporarily stop sending output\n",
      "to the client in order to avoid crashing it.\n",
      "To change this limit, set the config variable\n",
      "`--ServerApp.iopub_data_rate_limit`.\n",
      "\n",
      "Current values:\n",
      "ServerApp.iopub_data_rate_limit=1000000.0 (bytes/sec)\n",
      "ServerApp.rate_limit_window=3.0 (secs)\n",
      "\n"
     ]
    }
   ],
   "source": [
    "import json\n",
    "\n",
    "# Define the path to the GeoJSON file\n",
    "geo_json_path = r'D:\\1. Data Analysis\\Achievement 6 - New York Citi Bikes\\3\\custom.geo.json'\n",
    "\n",
    "# Load the geographic data\n",
    "with open(geo_json_path, 'r', encoding='utf-8') as f:  # Remove quotes around geo_json_path\n",
    "    country_geo = json.load(f)\n",
    "\n",
    "# Print the loaded GeoJSON data (optional)\n",
    "print(country_geo)\n"
   ]
  },
  {
   "cell_type": "code",
   "execution_count": 27,
   "id": "eab8eb91-a489-4b10-87f9-890526f41310",
   "metadata": {},
   "outputs": [
    {
     "data": {
      "text/plain": [
       "(50000, 20)"
      ]
     },
     "execution_count": 27,
     "metadata": {},
     "output_type": "execute_result"
    }
   ],
   "source": [
    "data_cleaned.shape"
   ]
  },
  {
   "cell_type": "code",
   "execution_count": 28,
   "id": "c511a50d-1f05-4e50-bebc-65f3bded2266",
   "metadata": {},
   "outputs": [],
   "source": [
    "# Create a map centered around the average location\n",
    "m = folium.Map(location=[data_cleaned['start_station_latitude'].mean(), \n",
    "                        data_cleaned['start_station_longitude'].mean()], \n",
    "               zoom_start=2)\n",
    "\n",
    "# Add markers for each location\n",
    "data_cleaned.apply(lambda row: folium.Marker(\n",
    "    location=[row['start_station_latitude'], row['start_station_longitude']],\n",
    "    icon=folium.Icon(color='blue')\n",
    ").add_to(m), axis=1)\n",
    "\n",
    "#  Save the map\n",
    "m.save('map.html')"
   ]
  },
  {
   "cell_type": "code",
   "execution_count": 29,
   "id": "b1d6f93f-1e6a-4255-bd50-6880693f8bdc",
   "metadata": {},
   "outputs": [],
   "source": [
    "#Add this in a new cell and run:\n",
    "\n",
    "boroughs = [\n",
    "    (40.8448, -73.8648),  # The Bronx\n",
    "    (40.6782, -73.9442),  # Brooklyn\n",
    "    (40.7831, -73.9712),  # Manhattan\n",
    "    (40.7282, -73.7949),  # Queens\n",
    "    (40.5795, -74.1502)   # Staten Island\n",
    "]\n",
    "\n",
    "# Calculate bounds\n",
    "bounds = [\n",
    "    [min([b[0] for b in boroughs]), min([b[1] for b in boroughs])],\n",
    "    [max([b[0] for b in boroughs]), max([b[1] for b in boroughs])]\n",
    "]\n",
    "\n",
    "# Fit the map to the bounds of the markers\n",
    "m.fit_bounds(bounds)\n",
    "\n",
    "# Save the map to an HTML file\n",
    "m.save('object.html')"
   ]
  },
  {
   "cell_type": "markdown",
   "id": "c36b8954-df7c-4dfd-be27-a2b9848ef30d",
   "metadata": {},
   "source": [
    "### 5. Discussing results and what they mean"
   ]
  },
  {
   "cell_type": "markdown",
   "id": "210a4799-7cd4-4327-9385-1a51decee580",
   "metadata": {},
   "source": [
    "## Does the analysis answer any of your existing research questions?"
   ]
  },
  {
   "cell_type": "markdown",
   "id": "f4fce54c-1035-4e34-994c-1447eb5ba45d",
   "metadata": {},
   "source": [
    "### Yes, the analysis answers the geographical questions by showing the top and bottom stations for start and end stations. With this, we can understand the average trip durations, the peak hours of the day , and average trip numbers per day. All these can be drawn from the map created.  "
   ]
  },
  {
   "cell_type": "code",
   "execution_count": null,
   "id": "791fcaa4-ab37-4565-8014-d3c0840542c4",
   "metadata": {},
   "outputs": [],
   "source": []
  },
  {
   "cell_type": "markdown",
   "id": "a7d22616-009f-457c-84be-a7d8b5f38529",
   "metadata": {},
   "source": [
    "#### Does the analysis lead you to any new research questions?"
   ]
  },
  {
   "cell_type": "markdown",
   "id": "b7f91bf3-a770-4da7-bf6d-a88999779927",
   "metadata": {},
   "source": [
    "### Yes, the analysis leads to new research questions such as;\n",
    "\n",
    "# What is the average number of trips per day?\n",
    "# What is the Ridership growth by start time?\n",
    "# What is the bike utilization by bike ID?\n",
    "# What are the peak hours of the day by hour against weekdays?\n"
   ]
  },
  {
   "cell_type": "code",
   "execution_count": null,
   "id": "c6e04ec4-3965-4745-ab14-2a3b43205aba",
   "metadata": {},
   "outputs": [],
   "source": []
  }
 ],
 "metadata": {
  "kernelspec": {
   "display_name": "Python 3 (ipykernel)",
   "language": "python",
   "name": "python3"
  },
  "language_info": {
   "codemirror_mode": {
    "name": "ipython",
    "version": 3
   },
   "file_extension": ".py",
   "mimetype": "text/x-python",
   "name": "python",
   "nbconvert_exporter": "python",
   "pygments_lexer": "ipython3",
   "version": "3.12.4"
  }
 },
 "nbformat": 4,
 "nbformat_minor": 5
}
